{
  "nbformat": 4,
  "nbformat_minor": 0,
  "metadata": {
    "colab": {
      "name": "baseline-crawler.ipynb",
      "provenance": [],
      "collapsed_sections": [],
      "include_colab_link": true
    },
    "kernelspec": {
      "name": "python3",
      "display_name": "Python 3"
    }
  },
  "cells": [
    {
      "cell_type": "markdown",
      "metadata": {
        "id": "view-in-github",
        "colab_type": "text"
      },
      "source": [
        "<a href=\"https://colab.research.google.com/github/LFBJC/projeto-ri-lfbjc-e-vms5/blob/master/baseline_crawler.ipynb\" target=\"_parent\"><img src=\"https://colab.research.google.com/assets/colab-badge.svg\" alt=\"Open In Colab\"/></a>"
      ]
    },
    {
      "cell_type": "code",
      "metadata": {
        "id": "WDXYxZyYkKAK",
        "colab_type": "code",
        "outputId": "7acbfada-07de-4fba-8af7-87e381af8175",
        "colab": {
          "base_uri": "https://localhost:8080/",
          "height": 733
        }
      },
      "source": [
        "!pip install requests\n",
        "!pip install beautifulsoup4\n",
        "import requests\n",
        "import re\n",
        "from bs4 import BeautifulSoup\n",
        "from threading import Thread\n",
        "\"\"\"TODO\n",
        "TRATAR CASO DE TEREM MAIS AGENTES DEPOIS\"\"\"\n",
        "visited_URLs=[]\n",
        "to_be_visited = []\n",
        "# api-endpoint\n",
        "def baseline(url):\n",
        "  protocol, url_wout_protocol = url.split('://')\n",
        "  pure_site_url=''\n",
        "  if(url_wout_protocol.find('/')!=-1):\n",
        "    pure_site_url = protocol+'://'+url_wout_protocol[0:url_wout_protocol.find('/')+1]\n",
        "  else:\n",
        "    pure_site_url = protocol+'://'+url_wout_protocol+'/'\n",
        "  URL_robots = pure_site_url + \"robots.txt\"\n",
        "  URL_node = url\n",
        "  print(URL_robots + \"    \" + URL_node)\n",
        "  visited_URLs.append(URL_node);\n",
        "  robots = requests.get(url = URL_robots).content.decode('utf-8')\n",
        "  matchRobots = re.search('User-agent: \\*.*',robots)\n",
        "  if(matchRobots == None):\n",
        "    print('Deu erro!!!!!!!!!!!!!')\n",
        "    print(URL_robots)\n",
        "    print(robots);\n",
        "  forbidden = [s[re.search('Disallow: ',s).end():] for s in re.findall('Disallow: .*',robots[matchRobots.start():])]\n",
        "  node_content = requests.get(url = URL_node).content\n",
        "  soup = BeautifulSoup(node_content)\n",
        "  to_be_visited.extend(soup.findAll('a'));\n",
        "  for anchor in to_be_visited:\n",
        "    if('href' in anchor.attrs): #checa se realmente é um link pq algumas ancoras estao sem links ou chamam scripts\n",
        "      href = anchor.attrs['href']\n",
        "      if((href[:href.find(':')]=='http') or (href[:href.find(':')]=='https')):\n",
        "        if(not any(l==href for l in visited_URLs)):\n",
        "          if(not any(pure_site_url[:-1]+s==href for s in forbidden)):#checa se o endereço é permitido\n",
        "            baseline(href);\n",
        "URLs = [\"https://pe.olx.com.br/imoveis\",\"https://www.zapimoveis.com.br/\", \"https://www.vivareal.com.br/\",\n",
        "        \"https://www.imovelweb.com.br/\",\"https://www.chavesnamao.com.br/\",\"https://www.redeimoveispe.com.br/\",\n",
        "        \"https://www.trueimoveis.com.br/imoveis/\",\"https://www.newville.com.br/imoveis/\",\"https://imoveis.trovit.com.br/\",\n",
        "        \"https://www.mercadolivre.com.br/imoveis\"];\n",
        "class Th(Thread):\n",
        "  def __init__ (self, url):\n",
        "                      Thread.__init__(self)\n",
        "                      self.url = url\n",
        "  def run(self):\n",
        "    baseline(self.url)\n",
        "for url in URLs:\n",
        "#url = URLs[0]\n",
        "  th = Th(url);\n",
        "  th.start();"
      ],
      "execution_count": 4,
      "outputs": [
        {
          "output_type": "stream",
          "text": [
            "Requirement already satisfied: requests in /usr/local/lib/python3.6/dist-packages (2.21.0)\n",
            "Requirement already satisfied: certifi>=2017.4.17 in /usr/local/lib/python3.6/dist-packages (from requests) (2019.6.16)\n",
            "Requirement already satisfied: chardet<3.1.0,>=3.0.2 in /usr/local/lib/python3.6/dist-packages (from requests) (3.0.4)\n",
            "Requirement already satisfied: idna<2.9,>=2.5 in /usr/local/lib/python3.6/dist-packages (from requests) (2.8)\n",
            "Requirement already satisfied: urllib3<1.25,>=1.21.1 in /usr/local/lib/python3.6/dist-packages (from requests) (1.24.3)\n",
            "Requirement already satisfied: beautifulsoup4 in /usr/local/lib/python3.6/dist-packages (4.6.3)\n",
            "https://pe.olx.com.br/robots.txt    https://pe.olx.com.br/imoveis\n",
            "https://www.zapimoveis.com.br/robots.txt    https://www.zapimoveis.com.br/\n",
            "https://www.vivareal.com.br/robots.txt    https://www.vivareal.com.br/https://www.imovelweb.com.br/robots.txt    https://www.imovelweb.com.br/\n",
            "https://www.chavesnamao.com.br/robots.txt    https://www.chavesnamao.com.br/\n",
            "https://www.redeimoveispe.com.br/robots.txt    https://www.redeimoveispe.com.br/\n",
            "\n",
            "https://www.trueimoveis.com.br/robots.txt    https://www.trueimoveis.com.br/imoveis/\n",
            "https://www.newville.com.br/robots.txt    https://www.newville.com.br/imoveis/\n",
            "https://imoveis.trovit.com.br/robots.txt    https://imoveis.trovit.com.br/\n",
            "https://www.mercadolivre.com.br/robots.txt    https://www.mercadolivre.com.br/imoveis\n",
            "Deu erro!!!!!!!!!!!!!\n",
            "https://www.zapimoveis.com.br/robots.txt\n",
            "<HTML><HEAD>\n",
            "<TITLE>Access Denied</TITLE>\n",
            "</HEAD><BODY>\n",
            "<H1>Access Denied</H1>\n",
            " \n",
            "You don't have permission to access \"http&#58;&#47;&#47;www&#46;zapimoveis&#46;com&#46;br&#47;robots&#46;txt\" on this server.<P>\n",
            "Reference&#32;&#35;18&#46;b6f86668&#46;1568899756&#46;3168e4ee\n",
            "</BODY>\n",
            "</HTML>\n",
            "\n",
            "https://www.chavesnamao.com.br/robots.txt    https://www.chavesnamao.com.br/imoveis/brasil/\n"
          ],
          "name": "stdout"
        },
        {
          "output_type": "stream",
          "text": [
            "Exception in thread Thread-36:\n",
            "Traceback (most recent call last):\n",
            "  File \"/usr/lib/python3.6/threading.py\", line 916, in _bootstrap_inner\n",
            "    self.run()\n",
            "  File \"<ipython-input-4-fbc159fffbac>\", line 49, in run\n",
            "    baseline(self.url)\n",
            "  File \"<ipython-input-4-fbc159fffbac>\", line 29, in baseline\n",
            "    forbidden = [s[re.search('Disallow: ',s).end():] for s in re.findall('Disallow: .*',robots[matchRobots.start():])]\n",
            "AttributeError: 'NoneType' object has no attribute 'start'\n",
            "\n"
          ],
          "name": "stderr"
        }
      ]
    }
  ]
}